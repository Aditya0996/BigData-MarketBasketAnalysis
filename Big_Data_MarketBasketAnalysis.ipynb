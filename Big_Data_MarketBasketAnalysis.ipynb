{
  "nbformat": 4,
  "nbformat_minor": 0,
  "metadata": {
    "colab": {
      "provenance": [],
      "authorship_tag": "ABX9TyOVFOLq6NVmMFIS0iNaHSzy",
      "include_colab_link": true
    },
    "kernelspec": {
      "name": "python3",
      "display_name": "Python 3"
    },
    "language_info": {
      "name": "python"
    }
  },
  "cells": [
    {
      "cell_type": "markdown",
      "metadata": {
        "id": "view-in-github",
        "colab_type": "text"
      },
      "source": [
        "<a href=\"https://colab.research.google.com/github/Aditya0996/BigData-MarketBasketAnalysis/blob/main/Big_Data_MarketBasketAnalysis.ipynb\" target=\"_parent\"><img src=\"https://colab.research.google.com/assets/colab-badge.svg\" alt=\"Open In Colab\"/></a>"
      ]
    },
    {
      "cell_type": "code",
      "source": [
        "!pip install pyspark\n",
        "!pip install -U -q PyDrive\n",
        "!apt install openjdk-8-jdk-headless -qq\n",
        "import os\n",
        "os.environ[\"JAVA_HOME\"] = \"/usr/lib/jvm/java-8-openjdk-amd64\""
      ],
      "metadata": {
        "colab": {
          "base_uri": "https://localhost:8080/"
        },
        "id": "gze7jQp74P8k",
        "outputId": "4436758b-7897-42b2-a34b-12461046fcc5"
      },
      "execution_count": null,
      "outputs": [
        {
          "output_type": "stream",
          "name": "stdout",
          "text": [
            "Requirement already satisfied: pyspark in /usr/local/lib/python3.10/dist-packages (3.5.0)\n",
            "Requirement already satisfied: py4j==0.10.9.7 in /usr/local/lib/python3.10/dist-packages (from pyspark) (0.10.9.7)\n",
            "openjdk-8-jdk-headless is already the newest version (8u382-ga-1~22.04.1).\n",
            "0 upgraded, 0 newly installed, 0 to remove and 18 not upgraded.\n"
          ]
        }
      ]
    },
    {
      "cell_type": "code",
      "execution_count": null,
      "metadata": {
        "id": "-mgxEsAuHWNa"
      },
      "outputs": [],
      "source": [
        "from pyspark.sql import *\n",
        "from pyspark.sql.functions import *\n",
        "from pyspark import SparkContext\n",
        "import pandas as pd\n",
        "import itertools\n",
        "\n",
        "# create the Spark Session\n",
        "spark = SparkSession.builder.getOrCreate()\n",
        "\n",
        "# create the Spark Context\n",
        "sc = spark.sparkContext"
      ]
    },
    {
      "cell_type": "markdown",
      "source": [
        "Please upload input file to sample_data folder before running!"
      ],
      "metadata": {
        "id": "mjNKWSRGzSCs"
      }
    },
    {
      "cell_type": "code",
      "source": [
        "# Reading the input file\n",
        "txt = spark.read.text(\"/content/sample_data/browsing.txt\")"
      ],
      "metadata": {
        "id": "oEVT8mf-HfHG"
      },
      "execution_count": null,
      "outputs": []
    },
    {
      "cell_type": "code",
      "source": [
        "txt.head(5)"
      ],
      "metadata": {
        "colab": {
          "base_uri": "https://localhost:8080/"
        },
        "id": "fCGWDt8H4qt7",
        "outputId": "d8b27539-413c-438e-dc08-f39e2cd1d101"
      },
      "execution_count": null,
      "outputs": [
        {
          "output_type": "execute_result",
          "data": {
            "text/plain": [
              "[Row(value='FRO11987 ELE17451 ELE89019 SNA90258 GRO99222 '),\n",
              " Row(value='GRO99222 GRO12298 FRO12685 ELE91550 SNA11465 ELE26917 ELE52966 FRO90334 SNA30755 ELE17451 FRO84225 SNA80192 '),\n",
              " Row(value='ELE17451 GRO73461 DAI22896 SNA99873 FRO86643 '),\n",
              " Row(value='ELE17451 ELE37798 FRO86643 GRO56989 ELE23393 SNA11465 '),\n",
              " Row(value='ELE17451 SNA69641 FRO86643 FRO78087 SNA11465 GRO39357 ELE28573 ELE11375 DAI54444 ')]"
            ]
          },
          "metadata": {},
          "execution_count": 5
        }
      ]
    },
    {
      "cell_type": "code",
      "source": [
        "#Take each line and split by space and output as a list in Basket column\n",
        "txt = txt.withColumn(\"basket\", (split(txt.value, \" \")))"
      ],
      "metadata": {
        "id": "ibxy_CnlKCgR"
      },
      "execution_count": null,
      "outputs": []
    },
    {
      "cell_type": "code",
      "source": [
        "txt.head(5)"
      ],
      "metadata": {
        "colab": {
          "base_uri": "https://localhost:8080/"
        },
        "id": "xRDaOkj848mn",
        "outputId": "bd59c0b2-1911-4bcd-a704-e7d0df9ac16b"
      },
      "execution_count": null,
      "outputs": [
        {
          "output_type": "execute_result",
          "data": {
            "text/plain": [
              "[Row(value='FRO11987 ELE17451 ELE89019 SNA90258 GRO99222 ', basket=['FRO11987', 'ELE17451', 'ELE89019', 'SNA90258', 'GRO99222', '']),\n",
              " Row(value='GRO99222 GRO12298 FRO12685 ELE91550 SNA11465 ELE26917 ELE52966 FRO90334 SNA30755 ELE17451 FRO84225 SNA80192 ', basket=['GRO99222', 'GRO12298', 'FRO12685', 'ELE91550', 'SNA11465', 'ELE26917', 'ELE52966', 'FRO90334', 'SNA30755', 'ELE17451', 'FRO84225', 'SNA80192', '']),\n",
              " Row(value='ELE17451 GRO73461 DAI22896 SNA99873 FRO86643 ', basket=['ELE17451', 'GRO73461', 'DAI22896', 'SNA99873', 'FRO86643', '']),\n",
              " Row(value='ELE17451 ELE37798 FRO86643 GRO56989 ELE23393 SNA11465 ', basket=['ELE17451', 'ELE37798', 'FRO86643', 'GRO56989', 'ELE23393', 'SNA11465', '']),\n",
              " Row(value='ELE17451 SNA69641 FRO86643 FRO78087 SNA11465 GRO39357 ELE28573 ELE11375 DAI54444 ', basket=['ELE17451', 'SNA69641', 'FRO86643', 'FRO78087', 'SNA11465', 'GRO39357', 'ELE28573', 'ELE11375', 'DAI54444', ''])]"
            ]
          },
          "metadata": {},
          "execution_count": 7
        }
      ]
    },
    {
      "cell_type": "code",
      "source": [
        "# Remove the empty space at the end of each list\n",
        "basket_map = txt.rdd.map(lambda x: x.basket[:-1])"
      ],
      "metadata": {
        "id": "3zzhqZWN5yWv"
      },
      "execution_count": null,
      "outputs": []
    },
    {
      "cell_type": "code",
      "source": [
        "# Flattening the result to combine all lists\n",
        "all_items = basket_map.flatMap(lambda x: x)\n",
        "all_items.take(10)"
      ],
      "metadata": {
        "colab": {
          "base_uri": "https://localhost:8080/"
        },
        "id": "OsFasZ9l6cRO",
        "outputId": "29e6b151-399f-432f-903a-55084d923872"
      },
      "execution_count": null,
      "outputs": [
        {
          "output_type": "execute_result",
          "data": {
            "text/plain": [
              "['FRO11987',\n",
              " 'ELE17451',\n",
              " 'ELE89019',\n",
              " 'SNA90258',\n",
              " 'GRO99222',\n",
              " 'GRO99222',\n",
              " 'GRO12298',\n",
              " 'FRO12685',\n",
              " 'ELE91550',\n",
              " 'SNA11465']"
            ]
          },
          "metadata": {},
          "execution_count": 9
        }
      ]
    },
    {
      "cell_type": "code",
      "source": [
        "#Take each item as key and assign value as 1. Reduce by key to get total count of each item\n",
        "L1_frequent_item = all_items.map(lambda x: (x,1)).reduceByKey(lambda a,b: a+b)\n",
        "#Sort the rdd by item names and filter to take the values having count > = 100 (support>=100) to get the L1 frequent set\n",
        "L1_frequent_item = L1_frequent_item.sortBy(lambda x: x[0]).filter(lambda x: x[1]>=100)\n",
        "L1_frequent_item.take(5)"
      ],
      "metadata": {
        "colab": {
          "base_uri": "https://localhost:8080/"
        },
        "id": "pK3BLHlI67DV",
        "outputId": "a54e8877-a9ee-4e50-f943-b8d30142a26f"
      },
      "execution_count": null,
      "outputs": [
        {
          "output_type": "execute_result",
          "data": {
            "text/plain": [
              "[('DAI11223', 155),\n",
              " ('DAI11778', 117),\n",
              " ('DAI13194', 116),\n",
              " ('DAI13266', 181),\n",
              " ('DAI13788', 213)]"
            ]
          },
          "metadata": {},
          "execution_count": 10
        }
      ]
    },
    {
      "cell_type": "code",
      "source": [
        "#Sanity check\n",
        "L1_frequent_item.count()"
      ],
      "metadata": {
        "colab": {
          "base_uri": "https://localhost:8080/"
        },
        "id": "ifXvwxcF77Tf",
        "outputId": "d81dd479-3dea-4b00-82c0-290375c9811f"
      },
      "execution_count": null,
      "outputs": [
        {
          "output_type": "execute_result",
          "data": {
            "text/plain": [
              "647"
            ]
          },
          "metadata": {},
          "execution_count": 11
        }
      ]
    },
    {
      "cell_type": "code",
      "source": [
        "#Convert the L1 frequent items into list\n",
        "current_items1 = L1_frequent_item.map(lambda x: x[0]).collect()"
      ],
      "metadata": {
        "id": "aZ2sHaQs8SeS"
      },
      "execution_count": null,
      "outputs": []
    },
    {
      "cell_type": "code",
      "source": [
        "#Take combinations of 2 for each basket in our input using only the items which are in the L1 frequent item list(current_items1)\n",
        "def getTwoPair(basket):\n",
        "  allowed = []\n",
        "  output = []\n",
        "  basket.sort()\n",
        "  for x in basket:\n",
        "    if x in current_items1:\n",
        "      allowed.append(x)\n",
        "  for y in itertools.combinations(allowed,2):\n",
        "    output.append((y,1))\n",
        "  return output"
      ],
      "metadata": {
        "id": "eYRJWJYB9IcO"
      },
      "execution_count": null,
      "outputs": []
    },
    {
      "cell_type": "code",
      "source": [
        "# To find the L2 frequent items we get the available combinations as key with value 1 using getTwoPair function\n",
        "# Reduce by key to get total count of each combination and filter to take the values having count > = 100 (support>=100) to get the L2 frequent set\n",
        "L2_frequent_item = basket_map.flatMap(lambda x: getTwoPair(x)).reduceByKey(lambda a,b: a+b).filter(lambda x: x[1]>=100).sortBy(lambda x: x[0])\n",
        "L2_frequent_item.take(5)"
      ],
      "metadata": {
        "colab": {
          "base_uri": "https://localhost:8080/"
        },
        "id": "ny7hxbvR-1Rh",
        "outputId": "05130066-24df-4460-e5b5-c884a852de83"
      },
      "execution_count": null,
      "outputs": [
        {
          "output_type": "execute_result",
          "data": {
            "text/plain": [
              "[(('DAI16732', 'FRO78087'), 106),\n",
              " (('DAI18527', 'SNA44451'), 102),\n",
              " (('DAI22177', 'DAI31081'), 127),\n",
              " (('DAI22177', 'DAI62779'), 382),\n",
              " (('DAI22177', 'DAI63921'), 136)]"
            ]
          },
          "metadata": {},
          "execution_count": 14
        }
      ]
    },
    {
      "cell_type": "code",
      "source": [
        "#Convert the L1 frequent items into list\n",
        "current_items2 = L2_frequent_item.flatMap(lambda x: [x[0][0],x[0][1]]).collect()"
      ],
      "metadata": {
        "id": "ZpKeA1VEdOBE"
      },
      "execution_count": null,
      "outputs": []
    },
    {
      "cell_type": "code",
      "source": [
        "#Take combinations of 3 for each basket in our input using only the items which are in the L2 frequent item list(current_items2)\n",
        "def getThreePair(basket):\n",
        "  allowed = []\n",
        "  output = []\n",
        "  basket.sort()\n",
        "  for x in basket:\n",
        "    if x in current_items2:\n",
        "      allowed.append(x)\n",
        "  for y in itertools.combinations(allowed,3):\n",
        "    output.append((y,1))\n",
        "  return output"
      ],
      "metadata": {
        "id": "6UOsTIVqd1FQ"
      },
      "execution_count": null,
      "outputs": []
    },
    {
      "cell_type": "code",
      "source": [
        "# To find the L3 frequent items we get the available combinations as key with value 1 using getThreePair function\n",
        "# Reduce by key to get total count of each combination and filter to take the values having count > = 100 (support>=100) to get the L3 frequent set\n",
        "L3_frequent_item = basket_map.flatMap(lambda x: getThreePair(x)).reduceByKey(lambda a,b: a+b).filter(lambda x: x[1]>=100).sortBy(lambda x: x[0])\n",
        "L3_frequent_item.take(5)"
      ],
      "metadata": {
        "colab": {
          "base_uri": "https://localhost:8080/"
        },
        "id": "tLDCtW1JeLix",
        "outputId": "ec400667-3399-493c-bde9-e8dd2635031b"
      },
      "execution_count": null,
      "outputs": [
        {
          "output_type": "execute_result",
          "data": {
            "text/plain": [
              "[(('DAI22896', 'DAI62779', 'GRO73461'), 101),\n",
              " (('DAI23334', 'DAI62779', 'ELE92920'), 143),\n",
              " (('DAI31081', 'DAI62779', 'ELE17451'), 103),\n",
              " (('DAI31081', 'DAI75645', 'FRO40251'), 122),\n",
              " (('DAI31081', 'ELE32164', 'GRO59710'), 112)]"
            ]
          },
          "metadata": {},
          "execution_count": 17
        }
      ]
    },
    {
      "cell_type": "code",
      "source": [
        "# Confidence(A->B) = A U B / support(B)\n",
        "def getConfidence2(x):\n",
        "  x_count = L1_frequent_item.filter(lambda y: y[0] == x[0][0]).collect()[0][1] #Support(A)\n",
        "  y_count = L1_frequent_item.filter(lambda y: y[0] == x[0][1]).collect()[0][1] #Support(B)\n",
        "  return [(x[0],x[1]/x_count),((x[0][1],x[0][0]),x[1]/y_count)] # [(A U B / support(B)), (B U A / support(A))]"
      ],
      "metadata": {
        "id": "1cBD8Yk0gR-N"
      },
      "execution_count": null,
      "outputs": []
    },
    {
      "cell_type": "code",
      "source": [
        "#Find confidence for each combinations in L2 frequent item\n",
        "L2_frequent_item_list = L2_frequent_item.collect()\n",
        "confidence2 = []\n",
        "for x in L2_frequent_item_list:\n",
        "  confidence2 = confidence2 + getConfidence2(x)"
      ],
      "metadata": {
        "id": "hjcxZq1deuQ4"
      },
      "execution_count": null,
      "outputs": []
    },
    {
      "cell_type": "code",
      "source": [
        "# Sort confidenceList by confidence values and secondry sort using user names in case of same confidence values\n",
        "confidence2.sort(key= lambda x: (-x[1],x[0]))\n",
        "confidence2[:5]"
      ],
      "metadata": {
        "colab": {
          "base_uri": "https://localhost:8080/"
        },
        "id": "GlkIoasEnpzV",
        "outputId": "b82aa30c-e1db-4096-9206-c9522a0b386d"
      },
      "execution_count": null,
      "outputs": [
        {
          "output_type": "execute_result",
          "data": {
            "text/plain": [
              "[(('DAI93865', 'FRO40251'), 1.0),\n",
              " (('GRO85051', 'FRO40251'), 0.999176276771005),\n",
              " (('GRO38636', 'FRO40251'), 0.9906542056074766),\n",
              " (('ELE12951', 'FRO40251'), 0.9905660377358491),\n",
              " (('DAI88079', 'FRO40251'), 0.9867256637168141)]"
            ]
          },
          "metadata": {},
          "execution_count": 20
        }
      ]
    },
    {
      "cell_type": "code",
      "source": [
        "# Confidence(A,B->C) = A U B U C / support(A U B)\n",
        "def getConfidence3(x):\n",
        "  conf_xy_z = (((x[0][0],x[0][1]),x[0][2]), x[1]/L2_frequent_item.filter(lambda y: y[0] == (x[0][0],x[0][1])).collect()[0][1])\n",
        "  conf_yz_x = (((x[0][1],x[0][2]),x[0][0]), x[1]/L2_frequent_item.filter(lambda y: y[0] == (x[0][1],x[0][2])).collect()[0][1])\n",
        "  conf_xz_y = (((x[0][0],x[0][2]),x[0][1]), x[1]/L2_frequent_item.filter(lambda y: y[0] == (x[0][0],x[0][2])).collect()[0][1])\n",
        "  return [conf_xy_z, conf_yz_x, conf_xz_y]"
      ],
      "metadata": {
        "id": "1KBNQrRqoplC"
      },
      "execution_count": null,
      "outputs": []
    },
    {
      "cell_type": "code",
      "source": [
        "#Find confidence for each combinations in L3 frequent item\n",
        "L3_frequent_item_list = L3_frequent_item.collect()\n",
        "confidence3 = []\n",
        "for x in L3_frequent_item_list:\n",
        "  confidence3 = confidence3 + getConfidence3(x)"
      ],
      "metadata": {
        "id": "u5Rwon9iwAS9"
      },
      "execution_count": null,
      "outputs": []
    },
    {
      "cell_type": "code",
      "source": [
        "# Sort confidenceList by confidence values and secondry sort using user names in case of same confidence values\n",
        "confidence3.sort(key= lambda x: (-x[1],x[0]))\n",
        "confidence3[:5]"
      ],
      "metadata": {
        "id": "5-mHGuq0wXuW",
        "colab": {
          "base_uri": "https://localhost:8080/"
        },
        "outputId": "99d1cbc3-9fd2-4d02-d5ba-93904bd75f4c"
      },
      "execution_count": null,
      "outputs": [
        {
          "data": {
            "text/plain": [
              "[((('DAI23334', 'ELE92920'), 'DAI62779'), 1.0),\n",
              " ((('DAI31081', 'GRO85051'), 'FRO40251'), 1.0),\n",
              " ((('DAI55911', 'GRO85051'), 'FRO40251'), 1.0),\n",
              " ((('DAI62779', 'DAI88079'), 'FRO40251'), 1.0),\n",
              " ((('DAI75645', 'GRO85051'), 'FRO40251'), 1.0)]"
            ]
          },
          "execution_count": 23,
          "metadata": {},
          "output_type": "execute_result"
        }
      ]
    },
    {
      "cell_type": "markdown",
      "source": [
        "Sources-\n",
        "\n",
        " https://www.section.io/engineering-education/introduction-to-frequent-itemset-mining-with-python/\n",
        "\n",
        "https://intellipaat.com/blog/data-science-apriori-algorithm/\n",
        "\n",
        "https://github.com/devshah96/Product-Recommendation/blob/master/Association_rules.ipynb"
      ],
      "metadata": {
        "id": "b8qIy-a6KD0H"
      }
    }
  ]
}